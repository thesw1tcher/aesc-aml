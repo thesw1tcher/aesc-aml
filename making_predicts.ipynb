{
 "cells": [
  {
   "cell_type": "code",
   "execution_count": 9,
   "id": "49ad2e4e",
   "metadata": {},
   "outputs": [],
   "source": [
    "import pandas as pd\n",
    "import json\n",
    "from datetime import datetime\n",
    "from time import sleep\n",
    "from time import sleep\n",
    "import requests\n",
    "from random import choice\n",
    "from sklearn.preprocessing import StandardScaler\n",
    "from catboost import CatBoostClassifier, Pool\n",
    "import sys\n",
    "import joblib\n",
    "sys.modules['sklearn.externals.joblib'] = joblib\n",
    "from sklearn.externals.joblib import load\n",
    "\n",
    "etherscan_wallets = set()\n",
    "\n",
    "tokenview_tokens = ['o8q8Lei2R5RpHMglx05J',\n",
    " 'sFrkJ9xm3jhC3yw6Q98h',\n",
    " 'ZNwkHyiVPTWtOuVfULqn',\n",
    " 'QshQ8WKKT5XnL2zRFQ8w',\n",
    " 'rXZD5FpaRW1I5jQxiyTI',\n",
    " 'o28OzKySi8CYhTZZLHul',\n",
    " 'vdVt7l111UMFtVubb7OM',\n",
    " 'JOvDoRKsCy0c5wsy1HuM',\n",
    " 'iFEVMCFqbz2SrP9X8DwW',\n",
    " 'rTWYOXLiTWs3paSKZnNX',\n",
    " 'IDVmBJros0w3ulWn7dI4',\n",
    " 'TaGcjx6lT0zm2ZpVI6q1',\n",
    " '38mapNHS9z3FhBiorCXn',\n",
    " 'VRB3FuClrl0qzs9yNlJr',\n",
    " 'wOdr9u1R2UWye08rvfgI',\n",
    " 'EF2HpqTBeO7HhMI2kipN',\n",
    " 'n3YH3KAawEGzRug4s5Pp',\n",
    " 'RQuhjZJDOyQkVNCZcQLX',\n",
    " 'PTowqCQ0vrS0YBCxW72G',\n",
    " 'st5Ti3eFp5VvArGKmFKt',\n",
    " 'cy8K3d8eoy4lwGxyHvMf',\n",
    " '4HaVdsu2qB6Lsi5RPT3w',\n",
    " 'QJM1bRmC9R5XTv4Kwv2m',\n",
    " 'kCSYz62fQsFiMzvZRcWa',\n",
    " 'C4sDpHl0ZYzCLZXQu6Se',\n",
    " 'ItWUhfYgZMnZgK4U7hjy',\n",
    " 'JHJe4Z4WosuMzewzzk3m',\n",
    " 'rVR3BTymDcx3yQTqQk7Q',\n",
    " 'tHkxdqn2GwUuamEejvJo',\n",
    " 'RSy2oQhcsbGBkjn8KUm9']\n",
    "\n",
    "model = CatBoostClassifier()\n",
    "model.load_model(\"CatBoost.model\")\n",
    "\n",
    "dates = pd.read_csv('dates.csv')\n",
    "\n",
    "def make_predict(addr):\n",
    "    addr = addr.lower()\n",
    "    result = []\n",
    "    if addr in etherscan_wallets:\n",
    "        #print('first return: 1')\n",
    "        return 1\n",
    "    for i in range(1, 51):\n",
    "        try:\n",
    "            print(i)\n",
    "            cur = json.loads(requests.get(f\"https://services.tokenview.io/vipapi/address/eth/{addr}/{i}/50?apikey={choice(tokenview_tokens)}\").text)\n",
    "            if cur[\"code\"] == 404 or cur[\"code\"] == '404':\n",
    "                break\n",
    "            result += cur['data'][0]['txs']\n",
    "        except Exception as E:\n",
    "            i -= 1\n",
    "            print(E)\n",
    "            sleep(5)\n",
    "    #print(result)\n",
    "    result = [(addr == el['from'].lower(), el['value'], el['time'], el['to'].lower() if addr == el['from'].lower() else el['from'].lower()) for el in result]\n",
    "    line = result\n",
    "    if(len(line) < 1):\n",
    "        #print('second return: 0')\n",
    "        return ((1, 0), 0)\n",
    "    for i in range(len(line)):\n",
    "        el = list(line[i])\n",
    "        el[1] = float(el[1])\n",
    "        line[i] = tuple(el)\n",
    "        \n",
    "    tnx = line\n",
    "    tnx.sort(key=lambda x: x[2], reverse=True)\n",
    "    \n",
    "    number_of_tnx = len(tnx)\n",
    "    is_there_2500 = number_of_tnx == 2500\n",
    "    number_of_sent_tnx = sum(i[0] for i in tnx)\n",
    "    number_of_received_tnx = number_of_tnx - number_of_sent_tnx\n",
    "    ratio_sent_received_tnx = number_of_sent_tnx / (number_of_received_tnx + 1)\n",
    "    \n",
    "    total_sent_eth = sum(i[1] for i in tnx if i[0])\n",
    "    total_received_eth = sum(i[1] for i in tnx if not i[0])\n",
    "    total_eth_interacted_with = total_sent_eth + total_received_eth\n",
    "    sent_received_ratio = total_sent_eth / (total_received_eth + 0.00001)\n",
    "    \n",
    "    unique_values_sent = len(set(i[1] for i in tnx if i[0]))\n",
    "    unique_values_received = len(set(i[1] for i in tnx if not i[0]))\n",
    "    unique_values = len(set(i[1] for i in tnx))\n",
    "    ratio_unique_values_sent_received = unique_values_sent / (unique_values_received + 1)\n",
    "    \n",
    "    avg_value_of_sent_tnx = total_sent_eth / (number_of_sent_tnx + 1)\n",
    "    avg_value_of_received_tnx = total_received_eth / (number_of_received_tnx + 1)\n",
    "    avg_value_of_all_tnx = total_eth_interacted_with / (number_of_tnx + 1)\n",
    "    \n",
    "    time_diff_btw_first_and_last = (tnx[0][2] - tnx[-1][2])\n",
    "    the_least_time_diff = min(tnx[i][2] - tnx[i + 1][2] for i in range(len(tnx) - 1)) if len(tnx) >= 2 else 0\n",
    "    the_biggest_time_diff = max(tnx[i][2] - tnx[i + 1][2] for i in range(len(tnx) - 1)) if len(tnx) >= 2 else 0\n",
    "    avg_sec_btw_tnx = time_diff_btw_first_and_last / number_of_tnx\n",
    "    \n",
    "    sent_times = [i[2] for i in tnx if i[0]]\n",
    "    received_times = [i[2] for i in tnx if not i[0]]\n",
    "    time_diff_btw_first_and_last_sent = (sent_times[0] - sent_times[-1]) if sent_times else 0\n",
    "    time_diff_btw_first_and_last_received = (received_times[0] - received_times[-1]) if received_times else 0\n",
    "    the_least_time_diff_sent = min([sent_times[i] - sent_times[i + 1] for i in range(len(sent_times) - 1)]) if len(sent_times) >= 2 else 0\n",
    "    the_biggest_time_diff_sent = max([sent_times[i] - sent_times[i + 1] for i in range(len(sent_times) - 1)]) if len(sent_times) >= 2 else 0\n",
    "    the_least_time_diff_received = min([received_times[i] - received_times[i + 1] for i in range(len(received_times) - 1)]) if len(received_times) >= 2 else 0\n",
    "    the_biggest_time_diff_received = max([received_times[i] - received_times[i + 1] for i in range(len(received_times) - 1)]) if len(received_times) >= 2 else 0\n",
    "    avg_sec_btw_tnx_sent = time_diff_btw_first_and_last_sent / (number_of_sent_tnx + 1)\n",
    "    avg_sec_btw_tnx_received = time_diff_btw_first_and_last_received / (number_of_received_tnx + 1)\n",
    "    \n",
    "    unique_addresses_sent = len(set(i[-1] for i in tnx if i[0]))\n",
    "    unique_addresses_received = len(set(i[-1] for i in tnx if not i[0]))\n",
    "    unique_addresses_all = len(set(i[-1] for i in tnx))\n",
    "    \n",
    "    \n",
    "    timestamp = int(tnx[0][2])\n",
    "    dt_object = datetime.fromtimestamp(timestamp)\n",
    "    \n",
    "    if not dates[dates.date == str(dt_object.date())]['value'].empty:\n",
    "        price_in_usd = dates[dates.date == str(dt_object.date())]['value'].iloc[0] \n",
    "    else:\n",
    "        price_in_usd = loads(get(f'https://min-api.cryptocompare.com/data/pricehistorical?fsym=ETH&tsyms=USD&ts={timestamp}').text)['ETH']['USD']\n",
    "    \n",
    "    total_sent_eth_usd = total_sent_eth * price_in_usd\n",
    "    total_received_eth_usd = total_received_eth * price_in_usd\n",
    "    total_eth_interacted_with_usd = total_eth_interacted_with * price_in_usd\n",
    "    avg_value_of_sent_tnx_usd = total_sent_eth_usd / (number_of_sent_tnx + 1)\n",
    "    avg_value_of_received_tnx_usd = total_received_eth_usd / (number_of_received_tnx + 1)\n",
    "    avg_value_of_all_tnx_usd = total_eth_interacted_with_usd / (number_of_tnx + 1)\n",
    "    \n",
    "    #data = pd.Series([number_of_tnx, is_there_2500, number_of_sent_tnx, number_of_received_tnx, ratio_sent_received_tnx, total_sent_eth, total_received_eth, total_eth_interacted_with, sent_received_ratio, unique_values_sent, unique_values_received, unique_values, ratio_unique_values_sent_received, avg_value_of_sent_tnx, avg_value_of_received_tnx, avg_value_of_all_tnx, time_diff_btw_first_and_last, the_least_time_diff, the_biggest_time_diff, avg_sec_btw_tnx, time_diff_btw_first_and_last_sent, time_diff_btw_first_and_last_received, the_least_time_diff_sent, the_biggest_time_diff_sent, the_least_time_diff_received, the_biggest_time_diff_received, avg_sec_btw_tnx_sent, avg_sec_btw_tnx_received, unique_addresses_sent, unique_addresses_received, unique_addresses_all, total_sent_eth_usd, total_received_eth_usd, total_eth_interacted_with_usd, avg_value_of_sent_tnx_usd, avg_value_of_received_tnx_usd, avg_value_of_all_tnx_usd])\n",
    "    data = [number_of_tnx, number_of_sent_tnx, number_of_received_tnx, ratio_sent_received_tnx, total_sent_eth, total_received_eth, total_eth_interacted_with, sent_received_ratio, unique_values_sent, unique_values_received, unique_values, ratio_unique_values_sent_received, avg_value_of_sent_tnx, avg_value_of_received_tnx, avg_value_of_all_tnx, time_diff_btw_first_and_last, the_least_time_diff, the_biggest_time_diff, avg_sec_btw_tnx, time_diff_btw_first_and_last_sent, time_diff_btw_first_and_last_received, the_least_time_diff_sent, the_biggest_time_diff_sent, the_least_time_diff_received, the_biggest_time_diff_received, avg_sec_btw_tnx_sent, avg_sec_btw_tnx_received, unique_addresses_sent, unique_addresses_received, unique_addresses_all, total_sent_eth_usd, total_received_eth_usd, total_eth_interacted_with_usd, avg_value_of_sent_tnx_usd, avg_value_of_received_tnx_usd, avg_value_of_all_tnx_usd]\n",
    "    print(len(data))\n",
    "    t = time = time_diff_btw_first_and_last\n",
    "\n",
    "    data += [number_of_tnx/t, number_of_sent_tnx/t, number_of_received_tnx/t, total_sent_eth/t, \n",
    "             total_received_eth/t, total_eth_interacted_with/t, unique_values_sent/t, unique_values_received/t,\n",
    "             unique_values/t, unique_addresses_sent/t, unique_addresses_received/t, \n",
    "             unique_addresses_all/t, total_sent_eth_usd/t, total_received_eth_usd/t, \n",
    "             total_eth_interacted_with_usd/t]\n",
    "    print(len(data))\n",
    "    scaler = load(\"std_scaler_on_divided_by_time.bin\")\n",
    "    scaled = scaler.transform([pd.Series(data)])\n",
    "    \n",
    "    to_model = list(scaled[0]) + [is_there_2500]\n",
    "    \n",
    "    return model.predict_proba(to_model), model.predict(to_model)\n",
    "    "
   ]
  },
  {
   "cell_type": "code",
   "execution_count": 10,
   "id": "98a4547a",
   "metadata": {},
   "outputs": [],
   "source": [
    "to_check = ['0x3f5CE5FBFe3E9af3971dD833D26bA9b5C936f0bE', '0xAb5801a7D398351b8bE11C439e05C5B3259aeC9B', '0xff438fba21b38980484a57ae1419ec84d3a33ea1', '0x492e2cfe720a69433480835cf34dac08fd50e705', '0x21a0e043ac332a082244617b8d69f83631566b41', '0x21B8d56BDA776bbE68655A16895afd96F5534feD', '0x47CE0C6eD5B0Ce3d3A51fdb1C52DC66a7c3c2936']"
   ]
  },
  {
   "cell_type": "code",
   "execution_count": 11,
   "id": "44ad57b0",
   "metadata": {},
   "outputs": [
    {
     "name": "stdout",
     "output_type": "stream",
     "text": [
      "0x3f5CE5FBFe3E9af3971dD833D26bA9b5C936f0bE\n",
      "1\n",
      "2\n",
      "3\n",
      "4\n",
      "5\n",
      "6\n",
      "7\n",
      "8\n",
      "9\n",
      "10\n",
      "11\n",
      "12\n",
      "13\n",
      "14\n",
      "15\n",
      "16\n",
      "17\n",
      "18\n",
      "19\n",
      "20\n",
      "21\n",
      "22\n",
      "23\n",
      "24\n",
      "25\n",
      "26\n",
      "27\n",
      "28\n",
      "29\n",
      "30\n",
      "31\n",
      "32\n",
      "33\n",
      "34\n",
      "35\n",
      "36\n",
      "37\n",
      "38\n",
      "39\n",
      "40\n",
      "41\n",
      "42\n",
      "43\n",
      "44\n",
      "45\n",
      "46\n",
      "47\n",
      "48\n",
      "49\n",
      "50\n",
      "36\n",
      "51\n",
      "0xAb5801a7D398351b8bE11C439e05C5B3259aeC9B\n",
      "1\n"
     ]
    },
    {
     "name": "stderr",
     "output_type": "stream",
     "text": [
      "C:\\ProgramData\\Anaconda3\\lib\\site-packages\\sklearn\\base.py:450: UserWarning: X does not have valid feature names, but StandardScaler was fitted with feature names\n",
      "  warnings.warn(\n"
     ]
    },
    {
     "name": "stdout",
     "output_type": "stream",
     "text": [
      "2\n",
      "3\n",
      "4\n",
      "5\n",
      "6\n",
      "7\n",
      "8\n",
      "9\n",
      "10\n",
      "11\n",
      "12\n",
      "13\n",
      "14\n",
      "15\n",
      "16\n",
      "17\n",
      "18\n",
      "19\n",
      "20\n",
      "21\n",
      "22\n",
      "23\n",
      "24\n",
      "25\n",
      "36\n",
      "51\n",
      "0xff438fba21b38980484a57ae1419ec84d3a33ea1\n",
      "1\n"
     ]
    },
    {
     "name": "stderr",
     "output_type": "stream",
     "text": [
      "C:\\ProgramData\\Anaconda3\\lib\\site-packages\\sklearn\\base.py:450: UserWarning: X does not have valid feature names, but StandardScaler was fitted with feature names\n",
      "  warnings.warn(\n"
     ]
    },
    {
     "name": "stdout",
     "output_type": "stream",
     "text": [
      "0x492e2cfe720a69433480835cf34dac08fd50e705\n",
      "1\n",
      "2\n",
      "36\n",
      "51\n",
      "0x21a0e043ac332a082244617b8d69f83631566b41\n",
      "1\n"
     ]
    },
    {
     "name": "stderr",
     "output_type": "stream",
     "text": [
      "C:\\ProgramData\\Anaconda3\\lib\\site-packages\\sklearn\\base.py:450: UserWarning: X does not have valid feature names, but StandardScaler was fitted with feature names\n",
      "  warnings.warn(\n"
     ]
    },
    {
     "name": "stdout",
     "output_type": "stream",
     "text": [
      "2\n",
      "36\n",
      "51\n",
      "0x21B8d56BDA776bbE68655A16895afd96F5534feD\n",
      "1\n"
     ]
    },
    {
     "name": "stderr",
     "output_type": "stream",
     "text": [
      "C:\\ProgramData\\Anaconda3\\lib\\site-packages\\sklearn\\base.py:450: UserWarning: X does not have valid feature names, but StandardScaler was fitted with feature names\n",
      "  warnings.warn(\n"
     ]
    },
    {
     "name": "stdout",
     "output_type": "stream",
     "text": [
      "2\n",
      "3\n",
      "36\n",
      "51\n",
      "0x47CE0C6eD5B0Ce3d3A51fdb1C52DC66a7c3c2936\n",
      "1\n"
     ]
    },
    {
     "name": "stderr",
     "output_type": "stream",
     "text": [
      "C:\\ProgramData\\Anaconda3\\lib\\site-packages\\sklearn\\base.py:450: UserWarning: X does not have valid feature names, but StandardScaler was fitted with feature names\n",
      "  warnings.warn(\n"
     ]
    },
    {
     "name": "stdout",
     "output_type": "stream",
     "text": [
      "2\n",
      "3\n",
      "4\n",
      "5\n",
      "6\n",
      "7\n",
      "8\n",
      "9\n",
      "10\n",
      "11\n",
      "12\n",
      "13\n",
      "14\n",
      "15\n",
      "16\n",
      "17\n",
      "18\n",
      "19\n",
      "20\n",
      "21\n",
      "22\n",
      "23\n",
      "24\n",
      "25\n",
      "26\n",
      "27\n",
      "28\n",
      "29\n",
      "30\n",
      "31\n",
      "32\n",
      "33\n",
      "34\n",
      "35\n",
      "36\n",
      "37\n",
      "38\n",
      "39\n",
      "40\n",
      "41\n",
      "42\n",
      "43\n",
      "44\n",
      "45\n",
      "46\n",
      "47\n",
      "48\n",
      "49\n",
      "50\n",
      "36\n",
      "51\n"
     ]
    },
    {
     "name": "stderr",
     "output_type": "stream",
     "text": [
      "C:\\ProgramData\\Anaconda3\\lib\\site-packages\\sklearn\\base.py:450: UserWarning: X does not have valid feature names, but StandardScaler was fitted with feature names\n",
      "  warnings.warn(\n"
     ]
    }
   ],
   "source": [
    "data = list()\n",
    "for i in to_check:\n",
    "    print(i)\n",
    "    data.append(make_predict(i))"
   ]
  },
  {
   "cell_type": "code",
   "execution_count": 12,
   "id": "0bff22f7",
   "metadata": {},
   "outputs": [
    {
     "data": {
      "text/plain": [
       "[(array([0.99508268, 0.00491732]), 0),\n",
       " (array([0.99271767, 0.00728233]), 0),\n",
       " ((1, 0), 0),\n",
       " (array([3.38758312e-04, 9.99661242e-01]), 1),\n",
       " (array([0.20047856, 0.79952144]), 1),\n",
       " (array([0.05162841, 0.94837159]), 1),\n",
       " (array([0.99772901, 0.00227099]), 0)]"
      ]
     },
     "execution_count": 12,
     "metadata": {},
     "output_type": "execute_result"
    }
   ],
   "source": [
    "data"
   ]
  },
  {
   "cell_type": "code",
   "execution_count": 3,
   "id": "d0d996fb",
   "metadata": {},
   "outputs": [
    {
     "name": "stdout",
     "output_type": "stream",
     "text": [
      "1\n",
      "second return: 0\n"
     ]
    },
    {
     "data": {
      "text/plain": [
       "0"
      ]
     },
     "execution_count": 3,
     "metadata": {},
     "output_type": "execute_result"
    }
   ],
   "source": [
    "make_predict('0xff438fba21b38980484a57ae1419ec84d3a33ea1')"
   ]
  },
  {
   "cell_type": "code",
   "execution_count": null,
   "id": "86fb5aec",
   "metadata": {},
   "outputs": [],
   "source": []
  }
 ],
 "metadata": {
  "kernelspec": {
   "display_name": "Python 3 (ipykernel)",
   "language": "python",
   "name": "python3"
  },
  "language_info": {
   "codemirror_mode": {
    "name": "ipython",
    "version": 3
   },
   "file_extension": ".py",
   "mimetype": "text/x-python",
   "name": "python",
   "nbconvert_exporter": "python",
   "pygments_lexer": "ipython3",
   "version": "3.9.12"
  }
 },
 "nbformat": 4,
 "nbformat_minor": 5
}
